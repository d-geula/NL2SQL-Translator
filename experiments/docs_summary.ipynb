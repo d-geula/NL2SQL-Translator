{
 "cells": [
  {
   "cell_type": "code",
   "execution_count": null,
   "metadata": {},
   "outputs": [],
   "source": []
  },
  {
   "cell_type": "code",
   "execution_count": null,
   "metadata": {},
   "outputs": [],
   "source": []
  },
  {
   "cell_type": "code",
   "execution_count": 1,
   "metadata": {},
   "outputs": [],
   "source": [
    "docs = \"\"\"Martin John Brundle (born 1 June 1959) is a British former racing driver, best known as a Formula One driver and as a commentator for ITV Sport from 1997 to 2008, the BBC from 2009 to 2011, and Sky Sports since 2012.[1]\n",
    "\n",
    "Brundle contested the 1983 British Formula Three Championship, finishing a close second to Ayrton Senna, and the two progressed to Formula One the next year. Brundle was the 1988 World Sportscar Champion with Silk Cut Jaguar, with a record points score; and won the 1988 24 Hours of Daytona, and the 1990 24 Hours of Le Mans for Jaguar Cars.\"\"\""
   ]
  },
  {
   "cell_type": "code",
   "execution_count": 8,
   "metadata": {},
   "outputs": [],
   "source": [
    "user_query, sql_results = (\"Tell me about Martin Brundle\", [(\"Martin\", \"Brundle\", \"1959-06-01\", \"British\")])"
   ]
  },
  {
   "cell_type": "code",
   "execution_count": 38,
   "metadata": {},
   "outputs": [],
   "source": [
    "template = \"\"\"\n",
    "Given a user query and a table of results, use the extra context \\\n",
    "provided to create a concise, rich summary of the query and the \\\n",
    "results - the extra context is supplemental to the query and results:\n",
    "    \n",
    "Extra context: {docs}\"\"\""
   ]
  },
  {
   "cell_type": "code",
   "execution_count": 39,
   "metadata": {},
   "outputs": [],
   "source": [
    "human_template = \"\"\"\n",
    "User query: {user_query}\n",
    "SQL results: {sql_results}\"\"\""
   ]
  },
  {
   "cell_type": "code",
   "execution_count": 31,
   "metadata": {},
   "outputs": [],
   "source": [
    "from langchain.chat_models import ChatOpenAI\n",
    "from langchain.prompts import (\n",
    "    ChatPromptTemplate,\n",
    "    PromptTemplate,\n",
    "    SystemMessagePromptTemplate,\n",
    "    AIMessagePromptTemplate,\n",
    "    HumanMessagePromptTemplate,\n",
    ")\n",
    "from langchain.schema import (\n",
    "    AIMessage,\n",
    "    HumanMessage,\n",
    "    SystemMessage\n",
    ")"
   ]
  },
  {
   "cell_type": "code",
   "execution_count": 33,
   "metadata": {},
   "outputs": [],
   "source": [
    "chat = ChatOpenAI(temperature=0.0, verbose=True)"
   ]
  },
  {
   "cell_type": "code",
   "execution_count": 41,
   "metadata": {},
   "outputs": [],
   "source": [
    "system_message_prompt = SystemMessagePromptTemplate.from_template(template)\n",
    "human_message_prompt = HumanMessagePromptTemplate.from_template(human_template)"
   ]
  },
  {
   "cell_type": "code",
   "execution_count": 51,
   "metadata": {},
   "outputs": [],
   "source": [
    "chat_prompt = ChatPromptTemplate.from_messages([system_message_prompt, human_message_prompt])\n",
    "# asda = chat_prompt.format_prompt(docs=docs, user_query=user_query, sql_results=sql_results).to_messages()"
   ]
  },
  {
   "cell_type": "code",
   "execution_count": 56,
   "metadata": {},
   "outputs": [
    {
     "name": "stderr",
     "output_type": "stream",
     "text": [
      "Retrying langchain.chat_models.openai.ChatOpenAI.completion_with_retry.<locals>._completion_with_retry in 1.0 seconds as it raised ServiceUnavailableError: The server is overloaded or not ready yet..\n"
     ]
    }
   ],
   "source": [
    "resp = chat(chat_prompt.format_prompt(docs=docs, user_query=user_query, sql_results=sql_results).to_messages())"
   ]
  },
  {
   "cell_type": "code",
   "execution_count": 63,
   "metadata": {},
   "outputs": [
    {
     "data": {
      "text/plain": [
       "'Martin Brundle, born on June 1, 1959, is a British former racing driver. He is best known for his career as a Formula One driver and as a commentator for ITV Sport, the BBC, and Sky Sports. In 1983, Brundle competed in the British Formula Three Championship, finishing second to Ayrton Senna. He then progressed to Formula One the following year. Brundle achieved great success in sportscar racing, becoming the 1988 World Sportscar Champion with Silk Cut Jaguar. He also won the 1988 24 Hours of Daytona and the 1990 24 Hours of Le Mans for Jaguar Cars.'"
      ]
     },
     "execution_count": 63,
     "metadata": {},
     "output_type": "execute_result"
    }
   ],
   "source": [
    "resp.content"
   ]
  },
  {
   "cell_type": "code",
   "execution_count": 52,
   "metadata": {},
   "outputs": [
    {
     "name": "stdout",
     "output_type": "stream",
     "text": [
      "content='Martin Brundle, born on June 1, 1959, is a British former racing driver. He is best known for his career as a Formula One driver and as a commentator for ITV Sport, the BBC, and Sky Sports. In 1983, Brundle competed in the British Formula Three Championship, finishing second to Ayrton Senna. He then progressed to Formula One the following year. Brundle achieved great success in sportscar racing, becoming the 1988 World Sportscar Champion with Silk Cut Jaguar. He also won the 1988 24 Hours of Daytona and the 1990 24 Hours of Le Mans for Jaguar Cars.' additional_kwargs={} example=False\n"
     ]
    }
   ],
   "source": [
    "response = chat(asda)\n",
    "print(response)"
   ]
  },
  {
   "cell_type": "code",
   "execution_count": 55,
   "metadata": {},
   "outputs": [
    {
     "data": {
      "text/plain": [
       "'Martin John Brundle (born 1 June 1959) is a British former racing driver, best known as a Formula One driver and as a commentator for ITV Sport from 1997 to 2008, the BBC from 2009 to 2011, and Sky Sports since 2012.[1]\\n\\nBrundle contested the 1983 British Formula Three Championship, finishing a close second to Ayrton Senna, and the two progressed to Formula One the next year. Brundle was the 1988 World Sportscar Champion with Silk Cut Jaguar, with a record points score; and won the 1988 24 Hours of Daytona, and the 1990 24 Hours of Le Mans for Jaguar Cars.'"
      ]
     },
     "execution_count": 55,
     "metadata": {},
     "output_type": "execute_result"
    }
   ],
   "source": [
    "from pathlib import Path\n",
    "docs = Path(r\"C:\\Users\\dgeul\\Documents\\Coding\\NL2SQL-Translator\\docs\\martin_brundle.txt\").read_text()\n",
    "docs"
   ]
  }
 ],
 "metadata": {
  "kernelspec": {
   "display_name": ".venv",
   "language": "python",
   "name": "python3"
  },
  "language_info": {
   "codemirror_mode": {
    "name": "ipython",
    "version": 3
   },
   "file_extension": ".py",
   "mimetype": "text/x-python",
   "name": "python",
   "nbconvert_exporter": "python",
   "pygments_lexer": "ipython3",
   "version": "3.11.4"
  },
  "orig_nbformat": 4
 },
 "nbformat": 4,
 "nbformat_minor": 2
}
